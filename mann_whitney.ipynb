{
 "cells": [
  {
   "cell_type": "code",
   "execution_count": 1,
   "metadata": {},
   "outputs": [],
   "source": [
    "import math\n",
    "import pandas as pd\n",
    "class MannWhitney:\n",
    "    def __init__(self, data1, data2):\n",
    "        self.data = [data1, data2]\n",
    "        self.grouped_data = []\n",
    "        self.merged_data = []\n",
    "        self.value_rank = {}\n",
    "        self.U_0 = []\n",
    "        self.U_1 = []\n",
    "        self.U = 0\n",
    "        \n",
    "    def U_Test(self):\n",
    "            \n",
    "        # Group data and identify by their sample sets\n",
    "        while len(self.grouped_data) < 2:\n",
    "            self.grouped_data.append([])  \n",
    "        for i in range(len(self.data)):\n",
    "            for n in range(len(self.data[i])):\n",
    "                self.grouped_data[i].append([self.data[i][n], i])\n",
    "        \n",
    "        # Combine Sample Sets and Rank Samples\n",
    "        for i in self.grouped_data:\n",
    "            for n in i:\n",
    "                if n[0] != '':\n",
    "                    self.merged_data.append(n)\n",
    "        self.merged_data.sort()\n",
    "        \n",
    "        rank = 1\n",
    "        for i in range(len(self.merged_data)):\n",
    "            self.merged_data[i].append(rank)\n",
    "            rank = rank + 1\n",
    "            \n",
    "        # Store ranks of occurrences of each value in a dictionary (self.value_rank)\n",
    "        for i in range(len(self.merged_data)):\n",
    "            if self.merged_data[i][0] not in self.value_rank:\n",
    "                self.value_rank[self.merged_data[i][0]] = [self.merged_data[i][2]]\n",
    "            else:\n",
    "                self.value_rank[self.merged_data[i][0]].append(self.merged_data[i][2])\n",
    "                \n",
    "        # For values that occur > 1, modify the ranks to be the average of ranks using the dictionary above \n",
    "        for i in range(len(self.merged_data)):\n",
    "            if len(self.value_rank[self.merged_data[i][0]]) > 1: \n",
    "                self.merged_data[i][2] = sum(self.value_rank[self.merged_data[i][0]]) \\\n",
    "                                        / len(self.value_rank[self.merged_data[i][0]])\n",
    "        \n",
    "        # Assign points to each value.  Tabulate scores for each set.  Pick smaller U.\n",
    "        for i in range(len(self.merged_data)):\n",
    "            counter = 0\n",
    "            for n in range(len(self.merged_data)):\n",
    "                if self.merged_data[i][1] != self.merged_data[n][1] \\\n",
    "                and self.merged_data[i][2] < self.merged_data[n][2]:\n",
    "                    counter = counter + 1\n",
    "            self.merged_data[i].append(counter)\n",
    "\n",
    "        for i in range(len(self.merged_data)):\n",
    "            if self.merged_data[i][1] == 0: \n",
    "                self.U_0.append(self.merged_data[i][3])\n",
    "            if self.merged_data[i][1] == 1:\n",
    "                self.U_1.append(self.merged_data[i][3])\n",
    "\n",
    "        if sum(self.U_0) < sum(self.U_1):\n",
    "            self.U = self.U + sum(self.U_0)\n",
    "        else:\n",
    "            self.U = self.U + sum(self.U_1)\n",
    "        \n",
    "        # Calculate and return Z-value\n",
    "        n_A = 0\n",
    "        n_B = 0\n",
    "        for i in range(len(self.merged_data)):\n",
    "            if self.merged_data[i][1] == 0:\n",
    "                n_A = n_A + 1\n",
    "            elif self.merged_data[i][1] == 1:\n",
    "                n_B = n_B + 1\n",
    "        Z = (self.U - (n_A * n_B / 2)) / math.sqrt(n_A * n_B *(n_A + n_B + 1) / (n_A + n_B))\n",
    "        return f\"Z-value: {Z}\""
   ]
  },
  {
   "cell_type": "code",
   "execution_count": 2,
   "metadata": {},
   "outputs": [
    {
     "data": {
      "text/plain": [
       "'Z-value: -2.8823067684915684'"
      ]
     },
     "execution_count": 2,
     "metadata": {},
     "output_type": "execute_result"
    }
   ],
   "source": [
    "data1 = [28, 31, 36, 35, 32, 35]\n",
    "data2 = [12, 19, 19, 14, 20, 19]\n",
    "L3process = MannWhitney(data1, data2)\n",
    "L3process.U_Test()"
   ]
  },
  {
   "cell_type": "code",
   "execution_count": 3,
   "metadata": {},
   "outputs": [
    {
     "data": {
      "text/plain": [
       "[[12, 1, 1, 6],\n",
       " [14, 1, 2, 6],\n",
       " [19, 1, 4.0, 6],\n",
       " [19, 1, 4.0, 6],\n",
       " [19, 1, 4.0, 6],\n",
       " [20, 1, 6, 6],\n",
       " [28, 0, 7, 0],\n",
       " [31, 0, 8, 0],\n",
       " [32, 0, 9, 0],\n",
       " [35, 0, 10.5, 0],\n",
       " [35, 0, 10.5, 0],\n",
       " [36, 0, 12, 0]]"
      ]
     },
     "execution_count": 3,
     "metadata": {},
     "output_type": "execute_result"
    }
   ],
   "source": [
    "L3process.merged_data"
   ]
  },
  {
   "cell_type": "code",
   "execution_count": null,
   "metadata": {},
   "outputs": [],
   "source": []
  }
 ],
 "metadata": {
  "kernelspec": {
   "display_name": "Python 3",
   "language": "python",
   "name": "python3"
  },
  "language_info": {
   "codemirror_mode": {
    "name": "ipython",
    "version": 3
   },
   "file_extension": ".py",
   "mimetype": "text/x-python",
   "name": "python",
   "nbconvert_exporter": "python",
   "pygments_lexer": "ipython3",
   "version": "3.7.4"
  }
 },
 "nbformat": 4,
 "nbformat_minor": 2
}
