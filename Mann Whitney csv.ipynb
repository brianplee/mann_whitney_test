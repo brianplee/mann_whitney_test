{
 "cells": [
  {
   "cell_type": "markdown",
   "metadata": {},
   "source": [
    "# Mann Whitney U-Test"
   ]
  },
  {
   "cell_type": "code",
   "execution_count": 1,
   "metadata": {},
   "outputs": [],
   "source": [
    "import math\n",
    "class MannWhitney:\n",
    "    def __init__(self, csv):\n",
    "        self.csv = csv\n",
    "        self.grouped_data = []\n",
    "        self.merged_data = []\n",
    "        self.value_rank = {}\n",
    "        self.U_0 = []\n",
    "        self.U_1 = []\n",
    "        self.U = 0\n",
    "        \n",
    "    def U_Test(self):\n",
    "        \n",
    "        #Process CSV (remove \\n, split by commas)\n",
    "        with open(self.csv, 'r') as f:\n",
    "            fr = f.readlines()\n",
    "            fr = [row.rstrip() for row in fr]\n",
    "            fr = [row.split(',') for row in fr]\n",
    "            \n",
    "        # Group data and identify by their sample sets\n",
    "        while len(self.grouped_data) < len(fr[0]):\n",
    "            self.grouped_data.append([])\n",
    "        for i in range(1, len(fr)):\n",
    "            for n in range(len(self.grouped_data)):\n",
    "                self.grouped_data[n].append([fr[i][n], n])\n",
    "        \n",
    "        # Combine Sample Sets and Rank Samples\n",
    "        for i in self.grouped_data:\n",
    "            for n in i:\n",
    "                if n[0] != '':\n",
    "                    self.merged_data.append(n)\n",
    "        self.merged_data.sort()\n",
    "        \n",
    "        rank = 1\n",
    "        for i in range(len(self.merged_data)):\n",
    "            self.merged_data[i].append(rank)\n",
    "            rank = rank + 1\n",
    "            \n",
    "        # Store ranks of occurrences of each value in a dictionary (self.value_rank)\n",
    "        for i in range(len(self.merged_data)):\n",
    "            if self.merged_data[i][0] not in self.value_rank:\n",
    "                self.value_rank[self.merged_data[i][0]] = [self.merged_data[i][2]]\n",
    "            else:\n",
    "                self.value_rank[self.merged_data[i][0]].append(self.merged_data[i][2])\n",
    "                \n",
    "        # For values that occur > 1, modify the ranks to be the average of ranks using the dictionary above \n",
    "        for i in range(len(self.merged_data)):\n",
    "            if len(self.value_rank[self.merged_data[i][0]]) > 1: \n",
    "                self.merged_data[i][2] = sum(self.value_rank[self.merged_data[i][0]]) \\\n",
    "                                        / len(self.value_rank[self.merged_data[i][0]])\n",
    "        \n",
    "        # Assign points to each value.  Tabulate scores for each set.  Pick smaller U.\n",
    "        for i in range(len(self.merged_data)):\n",
    "            counter = 0\n",
    "            for n in range(len(self.merged_data)):\n",
    "                if self.merged_data[i][1] != self.merged_data[n][1] \\\n",
    "                and self.merged_data[i][2] < self.merged_data[n][2]:\n",
    "                    counter = counter + 1\n",
    "            self.merged_data[i].append(counter)\n",
    "\n",
    "        for i in range(len(self.merged_data)):\n",
    "            if self.merged_data[i][1] == 0: \n",
    "                self.U_0.append(self.merged_data[i][3])\n",
    "            if self.merged_data[i][1] == 1:\n",
    "                self.U_1.append(self.merged_data[i][3])\n",
    "\n",
    "        if sum(self.U_0) < sum(self.U_1):\n",
    "            self.U = self.U + sum(self.U_0)\n",
    "        else:\n",
    "            self.U = self.U + sum(self.U_1)\n",
    "        \n",
    "        # Calculate and return Z-value\n",
    "        n_A = 0\n",
    "        n_B = 0\n",
    "        for i in range(len(self.merged_data)):\n",
    "            if self.merged_data[i][1] == 0:\n",
    "                n_A = n_A + 1\n",
    "            elif self.merged_data[i][1] == 1:\n",
    "                n_B = n_B + 1\n",
    "        Z = (self.U - (n_A * n_B / 2)) / math.sqrt(n_A * n_B *(n_A + n_B + 1) / (n_A + n_B))\n",
    "        return f\"Z-value: {Z}\""
   ]
  },
  {
   "cell_type": "code",
   "execution_count": 2,
   "metadata": {},
   "outputs": [
    {
     "data": {
      "text/plain": [
       "'Z-value: -2.8823067684915684'"
      ]
     },
     "execution_count": 2,
     "metadata": {},
     "output_type": "execute_result"
    }
   ],
   "source": [
    "csv1 = MannWhitney(\"mann_whitney.csv\")\n",
    "csv1.U_Test()"
   ]
  },
  {
   "cell_type": "code",
   "execution_count": 3,
   "metadata": {},
   "outputs": [
    {
     "data": {
      "text/plain": [
       "[['12', 1, 1, 6],\n",
       " ['14', 1, 2, 6],\n",
       " ['19', 1, 4.0, 6],\n",
       " ['19', 1, 4.0, 6],\n",
       " ['19', 1, 4.0, 6],\n",
       " ['20', 1, 6, 6],\n",
       " ['28', 0, 7, 0],\n",
       " ['31', 0, 8, 0],\n",
       " ['32', 0, 9, 0],\n",
       " ['35', 0, 10.5, 0],\n",
       " ['35', 0, 10.5, 0],\n",
       " ['36', 0, 12, 0]]"
      ]
     },
     "execution_count": 3,
     "metadata": {},
     "output_type": "execute_result"
    }
   ],
   "source": [
    "csv1.merged_data"
   ]
  },
  {
   "cell_type": "markdown",
   "metadata": {},
   "source": [
    "## Step by Step Outputs"
   ]
  },
  {
   "cell_type": "markdown",
   "metadata": {},
   "source": [
    "### Process CSV (remove \\n, split by commas)"
   ]
  },
  {
   "cell_type": "code",
   "execution_count": 4,
   "metadata": {},
   "outputs": [],
   "source": [
    "with open(\"mann_whitney.csv\", 'r') as f:\n",
    "    fr = f.readlines()\n",
    "    fr = [row.rstrip() for row in fr]\n",
    "    fr = [row.split(',') for row in fr]"
   ]
  },
  {
   "cell_type": "code",
   "execution_count": 5,
   "metadata": {
    "scrolled": true
   },
   "outputs": [
    {
     "data": {
      "text/plain": [
       "[['A', 'B'],\n",
       " ['28', '12'],\n",
       " ['31', '19'],\n",
       " ['36', '19'],\n",
       " ['35', '14'],\n",
       " ['32', '20'],\n",
       " ['35', '19']]"
      ]
     },
     "execution_count": 5,
     "metadata": {},
     "output_type": "execute_result"
    }
   ],
   "source": [
    "fr"
   ]
  },
  {
   "cell_type": "markdown",
   "metadata": {},
   "source": [
    "### Group data and identify by their sample sets"
   ]
  },
  {
   "cell_type": "code",
   "execution_count": 6,
   "metadata": {
    "scrolled": true
   },
   "outputs": [
    {
     "data": {
      "text/plain": [
       "[[['28', 0], ['31', 0], ['36', 0], ['35', 0], ['32', 0], ['35', 0]],\n",
       " [['12', 1], ['19', 1], ['19', 1], ['14', 1], ['20', 1], ['19', 1]]]"
      ]
     },
     "execution_count": 6,
     "metadata": {},
     "output_type": "execute_result"
    }
   ],
   "source": [
    "grouped_data = []\n",
    "while len(grouped_data) < len(fr[0]):\n",
    "    grouped_data.append([])\n",
    "for i in range(1, len(fr)):\n",
    "    for n in range(len(grouped_data)):\n",
    "        grouped_data[n].append([fr[i][n], n])\n",
    "grouped_data"
   ]
  },
  {
   "cell_type": "markdown",
   "metadata": {},
   "source": [
    "### Combine Sample Sets and Rank Samples"
   ]
  },
  {
   "cell_type": "code",
   "execution_count": 7,
   "metadata": {},
   "outputs": [],
   "source": [
    "merged_data = []\n",
    "for i in grouped_data:\n",
    "    for n in i:\n",
    "        if n[0] != '':\n",
    "            merged_data.append(n)\n",
    "merged_data.sort()"
   ]
  },
  {
   "cell_type": "code",
   "execution_count": 8,
   "metadata": {},
   "outputs": [
    {
     "data": {
      "text/plain": [
       "[['12', 1],\n",
       " ['14', 1],\n",
       " ['19', 1],\n",
       " ['19', 1],\n",
       " ['19', 1],\n",
       " ['20', 1],\n",
       " ['28', 0],\n",
       " ['31', 0],\n",
       " ['32', 0],\n",
       " ['35', 0],\n",
       " ['35', 0],\n",
       " ['36', 0]]"
      ]
     },
     "execution_count": 8,
     "metadata": {},
     "output_type": "execute_result"
    }
   ],
   "source": [
    "merged_data"
   ]
  },
  {
   "cell_type": "code",
   "execution_count": 9,
   "metadata": {},
   "outputs": [
    {
     "data": {
      "text/plain": [
       "[['12', 1, 1],\n",
       " ['14', 1, 2],\n",
       " ['19', 1, 3],\n",
       " ['19', 1, 4],\n",
       " ['19', 1, 5],\n",
       " ['20', 1, 6],\n",
       " ['28', 0, 7],\n",
       " ['31', 0, 8],\n",
       " ['32', 0, 9],\n",
       " ['35', 0, 10],\n",
       " ['35', 0, 11],\n",
       " ['36', 0, 12]]"
      ]
     },
     "execution_count": 9,
     "metadata": {},
     "output_type": "execute_result"
    }
   ],
   "source": [
    "rank = 1\n",
    "for i in range(len(merged_data)):\n",
    "    merged_data[i].append(rank)\n",
    "    rank = rank + 1\n",
    "merged_data "
   ]
  },
  {
   "cell_type": "markdown",
   "metadata": {},
   "source": [
    "### Store ranks of occurrences of each value in a dictionary"
   ]
  },
  {
   "cell_type": "code",
   "execution_count": 10,
   "metadata": {},
   "outputs": [
    {
     "data": {
      "text/plain": [
       "{'12': [1],\n",
       " '14': [2],\n",
       " '19': [3, 4, 5],\n",
       " '20': [6],\n",
       " '28': [7],\n",
       " '31': [8],\n",
       " '32': [9],\n",
       " '35': [10, 11],\n",
       " '36': [12]}"
      ]
     },
     "execution_count": 10,
     "metadata": {},
     "output_type": "execute_result"
    }
   ],
   "source": [
    "value_rank = {}   \n",
    "for i in range(len(merged_data)):\n",
    "    if merged_data[i][0] not in value_rank:\n",
    "        value_rank[merged_data[i][0]] = [merged_data[i][2]]\n",
    "    else:\n",
    "        value_rank[merged_data[i][0]].append(merged_data[i][2])\n",
    "value_rank"
   ]
  },
  {
   "cell_type": "markdown",
   "metadata": {},
   "source": [
    "### Modify the ranks (average of ranks) using the dictionary above for values that occur > 1"
   ]
  },
  {
   "cell_type": "code",
   "execution_count": 11,
   "metadata": {},
   "outputs": [
    {
     "data": {
      "text/plain": [
       "[3, 4, 5]"
      ]
     },
     "execution_count": 11,
     "metadata": {},
     "output_type": "execute_result"
    }
   ],
   "source": [
    "value_rank[merged_data[3][0]]"
   ]
  },
  {
   "cell_type": "code",
   "execution_count": 12,
   "metadata": {},
   "outputs": [
    {
     "data": {
      "text/plain": [
       "[['12', 1, 1],\n",
       " ['14', 1, 2],\n",
       " ['19', 1, 4.0],\n",
       " ['19', 1, 4.0],\n",
       " ['19', 1, 4.0],\n",
       " ['20', 1, 6],\n",
       " ['28', 0, 7],\n",
       " ['31', 0, 8],\n",
       " ['32', 0, 9],\n",
       " ['35', 0, 10.5],\n",
       " ['35', 0, 10.5],\n",
       " ['36', 0, 12]]"
      ]
     },
     "execution_count": 12,
     "metadata": {},
     "output_type": "execute_result"
    }
   ],
   "source": [
    "for i in range(len(merged_data)):\n",
    "    if len(value_rank[merged_data[i][0]]) > 1: \n",
    "        merged_data[i][2] = sum(value_rank[merged_data[i][0]]) / len(value_rank[merged_data[i][0]])\n",
    "merged_data"
   ]
  },
  {
   "cell_type": "markdown",
   "metadata": {},
   "source": [
    "### Assign points to each value.  Tabulate scores for each set.  Pick smaller U."
   ]
  },
  {
   "cell_type": "code",
   "execution_count": 13,
   "metadata": {
    "scrolled": true
   },
   "outputs": [
    {
     "data": {
      "text/plain": [
       "[['12', 1, 1, 6],\n",
       " ['14', 1, 2, 6],\n",
       " ['19', 1, 4.0, 6],\n",
       " ['19', 1, 4.0, 6],\n",
       " ['19', 1, 4.0, 6],\n",
       " ['20', 1, 6, 6],\n",
       " ['28', 0, 7, 0],\n",
       " ['31', 0, 8, 0],\n",
       " ['32', 0, 9, 0],\n",
       " ['35', 0, 10.5, 0],\n",
       " ['35', 0, 10.5, 0],\n",
       " ['36', 0, 12, 0]]"
      ]
     },
     "execution_count": 13,
     "metadata": {},
     "output_type": "execute_result"
    }
   ],
   "source": [
    "for i in range(len(merged_data)):\n",
    "    counter = 0\n",
    "    for n in range(len(merged_data)):\n",
    "        if merged_data[i][1] != merged_data[n][1] \\\n",
    "        and merged_data[i][2] < merged_data[n][2]:\n",
    "            counter = counter + 1\n",
    "    merged_data[i].append(counter)\n",
    "merged_data"
   ]
  },
  {
   "cell_type": "code",
   "execution_count": 14,
   "metadata": {},
   "outputs": [
    {
     "data": {
      "text/plain": [
       "0"
      ]
     },
     "execution_count": 14,
     "metadata": {},
     "output_type": "execute_result"
    }
   ],
   "source": [
    "U_0 = []\n",
    "U_1 = []\n",
    "for i in range(len(merged_data)):\n",
    "    if merged_data[i][1] == 0: \n",
    "        U_0.append(merged_data[i][3])\n",
    "    if merged_data[i][1] == 1:\n",
    "        U_1.append(merged_data[i][3])\n",
    "U = 0\n",
    "if sum(U_0) < sum(U_1):\n",
    "    U = U + sum(U_0)\n",
    "else:\n",
    "    U = U + sum(U_1)\n",
    "U"
   ]
  },
  {
   "cell_type": "markdown",
   "metadata": {},
   "source": [
    "### Calculate Z-value"
   ]
  },
  {
   "cell_type": "code",
   "execution_count": 15,
   "metadata": {},
   "outputs": [
    {
     "data": {
      "text/plain": [
       "-2.8823067684915684"
      ]
     },
     "execution_count": 15,
     "metadata": {},
     "output_type": "execute_result"
    }
   ],
   "source": [
    "import math\n",
    "n_A = 0\n",
    "n_B = 0\n",
    "for i in range(len(merged_data)):\n",
    "    if merged_data[i][1] == 0:\n",
    "        n_A = n_A + 1\n",
    "    elif merged_data[i][1] == 1:\n",
    "        n_B = n_B + 1\n",
    "z = (U - (n_A * n_B / 2)) / math.sqrt(n_A * n_B *(n_A + n_B + 1) / (n_A + n_B))\n",
    "z"
   ]
  },
  {
   "cell_type": "code",
   "execution_count": null,
   "metadata": {},
   "outputs": [],
   "source": []
  },
  {
   "cell_type": "code",
   "execution_count": null,
   "metadata": {},
   "outputs": [],
   "source": []
  }
 ],
 "metadata": {
  "celltoolbar": "Raw Cell Format",
  "kernelspec": {
   "display_name": "Python 3",
   "language": "python",
   "name": "python3"
  },
  "language_info": {
   "codemirror_mode": {
    "name": "ipython",
    "version": 3
   },
   "file_extension": ".py",
   "mimetype": "text/x-python",
   "name": "python",
   "nbconvert_exporter": "python",
   "pygments_lexer": "ipython3",
   "version": "3.7.3"
  }
 },
 "nbformat": 4,
 "nbformat_minor": 2
}
